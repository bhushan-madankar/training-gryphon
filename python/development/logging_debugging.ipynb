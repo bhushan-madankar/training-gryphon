{
 "cells": [
  {
   "cell_type": "markdown",
   "id": "746a2eb7",
   "metadata": {},
   "source": [
    "### handlers and formatters - smtpHandler , file , stream\n",
    "## LOGGING"
   ]
  },
  {
   "cell_type": "code",
   "execution_count": 1,
   "id": "5f482a0e",
   "metadata": {},
   "outputs": [
    {
     "name": "stderr",
     "output_type": "stream",
     "text": [
      "INFO:root:This is an info message\n"
     ]
    }
   ],
   "source": [
    "import logging\n",
    "logging.basicConfig(level = logging.INFO)\n",
    "logging.info(\"This is an info message\")\n"
   ]
  },
  {
   "cell_type": "markdown",
   "id": "219b65bd",
   "metadata": {},
   "source": [
    "### LOG levels : NOTSET(0) / DEBUG (10) / INFO(20) / WARNING (30) / ERROR(40) / CRITICAL (50) ---  priorities"
   ]
  },
  {
   "cell_type": "code",
   "execution_count": 3,
   "id": "db3a1245",
   "metadata": {},
   "outputs": [
    {
     "name": "stderr",
     "output_type": "stream",
     "text": [
      "INFO:root:This is an info message from mylogger\n"
     ]
    },
    {
     "name": "stdout",
     "output_type": "stream",
     "text": [
      "0 20 50\n"
     ]
    }
   ],
   "source": [
    "import logging\n",
    "logger = logging.getLogger(\"mylogger\")\n",
    "logger.setLevel(logging.INFO)\n",
    "logging.info(\"This is an info message from mylogger\")\n",
    "\n",
    "print(logging.NOTSET, logging.INFO, logging.CRITICAL)"
   ]
  },
  {
   "cell_type": "markdown",
   "id": "33ffa409",
   "metadata": {},
   "source": [
    "## filelogger , stream logger"
   ]
  },
  {
   "cell_type": "code",
   "execution_count": null,
   "id": "2a400a23",
   "metadata": {},
   "outputs": [
    {
     "name": "stderr",
     "output_type": "stream",
     "text": [
      "This is an info message from mylogger\n",
      "This is an info message from mylogger\n",
      "INFO:mylogger:This is an info message from mylogger\n"
     ]
    }
   ],
   "source": [
    "## in this code we have not closed the file handlers, which is not a good practice.\n",
    "import logging\n",
    "loggier = logging.getLogger(\"mylogger\")\n",
    "logger.setLevel(logging.INFO)\n",
    "\n",
    "stream_handler = logging.StreamHandler()\n",
    "logger.addHandler(stream_handler)\n",
    "\n",
    "file_handler = logging.FileHandler(\"mylog.log\")\n",
    "logger.addHandler(file_handler)\n",
    "\n",
    "logger.info(\"This is an info message from mylogger\")"
   ]
  },
  {
   "cell_type": "code",
   "execution_count": null,
   "id": "dc272321",
   "metadata": {},
   "outputs": [
    {
     "name": "stderr",
     "output_type": "stream",
     "text": [
      "This is an info message from mylogger\n",
      "This is an error message from mylogger\n"
     ]
    }
   ],
   "source": [
    "import logging\n",
    "logger = logging.getLogger(\"mylogger\")\n",
    "logger.setLevel(logging.INFO)\n",
    "logger.propagate = False  # This will prevent the message from being propagated to the root logger\n",
    "\n",
    "#remove all existing handlers\n",
    "if logger.hasHandlers():\n",
    "    logger.handlers.clear()\n",
    "\n",
    "stream_handler = logging.StreamHandler()\n",
    "logger.addHandler(stream_handler)\n",
    "\n",
    "file_handler = logging.FileHandler(\"mylog.log\")\n",
    "file_handler.setLevel(logging.ERROR)  # Set the file handler to log only ERROR messages and above\n",
    "logger.addHandler(file_handler)\n",
    "\n",
    "logger.info(\"This is an info message from mylogger\")\n",
    "logger.error(\"This is an error message from mylogger\")\n",
    "\n",
    "logging.shutdown()  # This will close all handlers and release resources\n"
   ]
  },
  {
   "cell_type": "markdown",
   "id": "8557c7c0",
   "metadata": {},
   "source": [
    "# Format"
   ]
  },
  {
   "cell_type": "code",
   "execution_count": 10,
   "id": "498ecca5",
   "metadata": {},
   "outputs": [],
   "source": [
    "import logging\n",
    "from logging.handlers import RotatingFileHandler # rotatingfilehandler used to limit the size of log files\n",
    "\n",
    "logger = logging.getLogger(\"mylogger\")\n",
    "logger.setLevel(logging.INFO)\n",
    "\n",
    "if logger.hasHandlers():\n",
    "    logger.handlers.clear()\n",
    "\n",
    "handler = RotatingFileHandler(\"mylog.log\", maxBytes=200, backupCount = 3)\n",
    "formatter = logging.Formatter('%(asctime)s - %(name)s - %(levelname)s - %(message)s')\n",
    "handler.setFormatter(formatter)\n",
    "logger.addHandler(handler)\n",
    "\n",
    "logger.info(\"This is an info message from mylogger\")\n",
    "logging.shutdown()  # This will close all handlers and release resources"
   ]
  }
 ],
 "metadata": {
  "kernelspec": {
   "display_name": "Python 3",
   "language": "python",
   "name": "python3"
  },
  "language_info": {
   "codemirror_mode": {
    "name": "ipython",
    "version": 3
   },
   "file_extension": ".py",
   "mimetype": "text/x-python",
   "name": "python",
   "nbconvert_exporter": "python",
   "pygments_lexer": "ipython3",
   "version": "3.11.5"
  }
 },
 "nbformat": 4,
 "nbformat_minor": 5
}
