{
 "cells": [
  {
   "cell_type": "markdown",
   "id": "abb82d8a",
   "metadata": {},
   "source": [
    "## DECORATORS"
   ]
  },
  {
   "cell_type": "code",
   "execution_count": 8,
   "id": "fbf8eec4",
   "metadata": {},
   "outputs": [
    {
     "name": "stdout",
     "output_type": "stream",
     "text": [
      "before function is called\n",
      "Current date and time: 2025-07-03 10:56:59.115520\n",
      "after function is called\n"
     ]
    }
   ],
   "source": [
    "from datetime import datetime\n",
    "\n",
    "def decorator(func):\n",
    "    def wrapper():\n",
    "        print(\"before function is called\")\n",
    "        func()\n",
    "        print(\"after function is called\")\n",
    "    return wrapper\n",
    "\n",
    "@decorator\n",
    "def print_current_datetime():\n",
    "    current_datetime = datetime.now()\n",
    "    print(f\"Current date and time: {current_datetime}\")\n",
    "    \n",
    "print_current_datetime()"
   ]
  },
  {
   "cell_type": "markdown",
   "id": "210f2596",
   "metadata": {},
   "source": [
    "## WRAPPER FOR FUNCTIoN WITH PARTAMETER"
   ]
  },
  {
   "cell_type": "code",
   "execution_count": 9,
   "id": "4c805e8f",
   "metadata": {},
   "outputs": [
    {
     "name": "stdout",
     "output_type": "stream",
     "text": [
      "before function is called\n",
      "Message: Hello, this is a message with arguments!\n",
      "after function is called\n"
     ]
    }
   ],
   "source": [
    "def decorator_with_args(func):\n",
    "    def wrapper(*args, **kwargs):\n",
    "        print(\"before function is called\")\n",
    "        func(*args, **kwargs)\n",
    "        print(\"after function is called\")\n",
    "    return wrapper\n",
    "@decorator_with_args\n",
    "def print_message(message):\n",
    "    print(f\"Message: {message}\")\n",
    "print_message(\"Hello, this is a message with arguments!\")"
   ]
  },
  {
   "cell_type": "code",
   "execution_count": 11,
   "id": "f5db3c24",
   "metadata": {},
   "outputs": [
    {
     "name": "stdout",
     "output_type": "stream",
     "text": [
      "the function is called add\n",
      "Sum of 2 and 3 is: 5\n"
     ]
    }
   ],
   "source": [
    "def dec_fun(fun):\n",
    "    def wrapper(*args, **kwargs):\n",
    "        print(f\"the function is called {fun.__name__}\")\n",
    "        return fun(*args, **kwargs)\n",
    "    return wrapper\n",
    "@dec_fun\n",
    "def add(a, b):\n",
    "    return a + b\n",
    "\n",
    "a,b = input(\"Enter two numbers: \").split()\n",
    "a = int(a)\n",
    "b = int(b)\n",
    "print(f\"Sum of {a} and {b} is: {add(a, b)}\")"
   ]
  },
  {
   "cell_type": "markdown",
   "id": "abb3eb62",
   "metadata": {},
   "source": [
    "## Decorator with arguments"
   ]
  },
  {
   "cell_type": "code",
   "execution_count": 12,
   "id": "bf7c557c",
   "metadata": {},
   "outputs": [
    {
     "name": "stdout",
     "output_type": "stream",
     "text": [
      "Hello, Alice!\n",
      "Hello, Alice!\n",
      "Hello, Alice!\n"
     ]
    }
   ],
   "source": [
    "def repeat(n):\n",
    "    def decorator(func):\n",
    "        def wrapper(*args, **kwargs):\n",
    "            for _ in range(n):\n",
    "                func(*args, **kwargs)\n",
    "        return wrapper\n",
    "    return decorator\n",
    "\n",
    "@repeat(3)\n",
    "def greet(name):\n",
    "    print(f\"Hello, {name}!\")\n",
    "\n",
    "greet(\"Alice\")"
   ]
  }
 ],
 "metadata": {
  "kernelspec": {
   "display_name": "Python 3",
   "language": "python",
   "name": "python3"
  },
  "language_info": {
   "codemirror_mode": {
    "name": "ipython",
    "version": 3
   },
   "file_extension": ".py",
   "mimetype": "text/x-python",
   "name": "python",
   "nbconvert_exporter": "python",
   "pygments_lexer": "ipython3",
   "version": "3.11.5"
  }
 },
 "nbformat": 4,
 "nbformat_minor": 5
}
