{
 "cells": [
  {
   "cell_type": "code",
   "execution_count": 10,
   "id": "02af86b0",
   "metadata": {},
   "outputs": [
    {
     "name": "stdout",
     "output_type": "stream",
     "text": [
      "This is a new line.\n",
      "This is a new line.\n",
      "This is another new line.\n",
      "This is yet another new line.\n"
     ]
    }
   ],
   "source": [
    "# file = open('sample.txt', 'r') # Open the file in read mode\n",
    "\n",
    "with open('sample.txt', 'w') as file:\n",
    "    # for line in file:\n",
    "    #     print(line.strip())  # Print each line without extra newline characters\n",
    "    \n",
    "    data = file.write(\"This is a new line.\\n\")  # Write a new line to the file\n",
    "    # print(data)\n",
    "    \n",
    "with open('sample.txt', 'r') as file:\n",
    "    for line in file:\n",
    "        print(line.strip())  # Print each line without extra newline characters\n",
    "        \n",
    "with open('sample.txt', 'a') as file:\n",
    "    file.write(\"This is another new line.\\n\")  # Append a new line to the file\n",
    "    file.write(\"This is yet another new line.\\n\")  # Append another new line to the file\n",
    "\n",
    "with open('sample.txt', 'r') as file:\n",
    "    for line in file:\n",
    "        print(line.strip())  # Print each line without extra newline characters"
   ]
  },
  {
   "cell_type": "markdown",
   "id": "4ed480b9",
   "metadata": {},
   "source": [
    "## r+ mode , a+, w+ "
   ]
  },
  {
   "cell_type": "code",
   "execution_count": 11,
   "id": "3755b3bc",
   "metadata": {},
   "outputs": [
    {
     "name": "stdout",
     "output_type": "stream",
     "text": [
      "This is a new line.\n",
      "\n"
     ]
    }
   ],
   "source": [
    "with open(\"sample.txt\", \"w+\") as file:\n",
    "    file.write(\"This is a new line.\\n\")  # Write a new line to the file\n",
    "    file.seek(0)  # Move the cursor to the beginning of the file\n",
    "    data = file.read()  # Read the content of the file\n",
    "    print(data)  # Print the content of the file"
   ]
  },
  {
   "cell_type": "markdown",
   "id": "480e0e17",
   "metadata": {},
   "source": [
    "## custom context manager using class"
   ]
  },
  {
   "cell_type": "code",
   "execution_count": 13,
   "id": "31a53d62",
   "metadata": {},
   "outputs": [],
   "source": [
    "class ManagedFile:\n",
    "    def __init__(self, filename, mode):\n",
    "        self.filename = filename\n",
    "        self.mode = mode\n",
    "\n",
    "    def __enter__(self):\n",
    "        self.file = open(self.filename, self.mode)\n",
    "        return self.file\n",
    "\n",
    "    def __exit__(self, exc_type, exc_value, traceback):\n",
    "        if self.file:\n",
    "            self.file.close()\n",
    "\n",
    "# using single with keyword to manage files read , write and append operations\n",
    "# open sample.txt in read mode (exisits) and then open dummy.txt in write mode (does not exist) and copy data from sample to dummy\n",
    "with ManagedFile('sample.txt', 'r') as read_file, ManagedFile('dummy.txt', 'w') as write_file:\n",
    "    for line in read_file:\n",
    "        write_file.write(line)  # Write each line from sample.txt to dummy.txt\n",
    "    "
   ]
  },
  {
   "cell_type": "markdown",
   "id": "6c8dd069",
   "metadata": {},
   "source": [
    "## binary modes"
   ]
  },
  {
   "cell_type": "code",
   "execution_count": 16,
   "id": "15579496",
   "metadata": {},
   "outputs": [
    {
     "name": "stdout",
     "output_type": "stream",
     "text": [
      "Bhushan 30 MyClass(name=10, age=20)\n"
     ]
    }
   ],
   "source": [
    "class MyClass:\n",
    "    def __init__(self, name, age):\n",
    "        self.name = name\n",
    "        self.age = age\n",
    "        \n",
    "    def __str__(self): ## __repr__ can also be used\n",
    "        return f\"MyClass(name={self.name}, age={self.age})\"\n",
    "        \n",
    "name = \"Bhushan\"\n",
    "age = 30\n",
    "\n",
    "obj = MyClass(10,20)\n",
    "print(name, age, obj)"
   ]
  },
  {
   "cell_type": "code",
   "execution_count": 17,
   "id": "e4b13c03",
   "metadata": {},
   "outputs": [],
   "source": [
    "import pickle\n",
    "\n",
    "with open('data.pkl', 'wb') as file: # wb mode for binary write\n",
    "    pickle.dump((name, age, obj), file)  # Serialize and save the data to a file\n",
    "    "
   ]
  },
  {
   "cell_type": "code",
   "execution_count": 19,
   "id": "f7634d9e",
   "metadata": {},
   "outputs": [
    {
     "name": "stdout",
     "output_type": "stream",
     "text": [
      "Bhushan 30 MyClass(name=10, age=20)\n"
     ]
    }
   ],
   "source": [
    "with open('data.pkl', 'rb') as file:  # rb mode for binary read\n",
    "    name, age, obj = pickle.load(file)  # Deserialize and load the data from the file\n",
    "    print(name, age, obj)  # Print the loaded data"
   ]
  },
  {
   "cell_type": "code",
   "execution_count": null,
   "id": "a312f333",
   "metadata": {},
   "outputs": [],
   "source": []
  }
 ],
 "metadata": {
  "kernelspec": {
   "display_name": "Python 3",
   "language": "python",
   "name": "python3"
  },
  "language_info": {
   "codemirror_mode": {
    "name": "ipython",
    "version": 3
   },
   "file_extension": ".py",
   "mimetype": "text/x-python",
   "name": "python",
   "nbconvert_exporter": "python",
   "pygments_lexer": "ipython3",
   "version": "3.11.5"
  }
 },
 "nbformat": 4,
 "nbformat_minor": 5
}
