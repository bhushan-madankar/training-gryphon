{
 "cells": [
  {
   "cell_type": "markdown",
   "id": "427a9e89",
   "metadata": {},
   "source": [
    "## MYSQL DATABASE"
   ]
  },
  {
   "cell_type": "markdown",
   "id": "902be23f",
   "metadata": {},
   "source": [
    "### inside a venv :\n",
    "## pip install ipykernel \n",
    "## python -m ipykernel install --user --name=myenv --display-name=\"myenv\"\n"
   ]
  },
  {
   "cell_type": "code",
   "execution_count": 3,
   "id": "310a19bf",
   "metadata": {},
   "outputs": [
    {
     "name": "stdout",
     "output_type": "stream",
     "text": [
      "connected to database:  <mysql.connector.connection_cext.CMySQLConnection object at 0x0000022C1F093E90>\n"
     ]
    }
   ],
   "source": [
    "import mysql.connector as connector\n",
    "\n",
    "mydb = connector.connect(\n",
    "    host = 'localhost',\n",
    "    user = 'root',\n",
    "    password = 'SysAdmin#789',\n",
    "    port = 3306\n",
    ")\n",
    "\n",
    "print('connected to database: ',mydb)\n",
    "\n",
    "cursor = mydb.cursor()\n",
    "query = \"\"\"create database if not exists test_db\"\"\"\n",
    "cursor.execute(query)\n",
    "mydb.commit()\n",
    "# result = cursor.execute('SHOW DATABASES')\n",
    "# result = cursor.fetchall()\n",
    "# print(result)"
   ]
  },
  {
   "cell_type": "code",
   "execution_count": 6,
   "id": "63b111ec",
   "metadata": {},
   "outputs": [],
   "source": [
    "# create database if not exists test_db\n",
    "# create table if not exists test_db.users (id int primary key auto_increment, name varchar(255), age int)\n",
    "# insert into test_db.users (name, age) values ('John Doe', 30)\n",
    "query = \"\"\"use test_db\"\"\"\n",
    "cursor.execute(query)\n",
    "query = \"\"\"create table if not exists test_db.users (\n",
    "    id int primary key ,\n",
    "    name varchar(255),\n",
    "    age int\n",
    ")\"\"\"\n",
    "cursor.execute(query)\n",
    "mydb.commit()\n"
   ]
  },
  {
   "cell_type": "code",
   "execution_count": 11,
   "id": "d4dd4c0b",
   "metadata": {},
   "outputs": [],
   "source": [
    "query = \"\"\"use test_db\"\"\"\n",
    "cursor.execute(query)\n",
    "query = \"\"\"insert into test_db.users (id, name, age) values \n",
    "(5, 'bade bhai', 90),\n",
    "(2, 'babu bhai', 60),\n",
    "(3, 'chotu don', 50),\n",
    "(4, 'sarkari babu', 40)\n",
    "\"\"\"\n",
    "cursor.execute(query)\n",
    "mydb.commit()"
   ]
  },
  {
   "cell_type": "code",
   "execution_count": 12,
   "id": "06710512",
   "metadata": {},
   "outputs": [
    {
     "name": "stdout",
     "output_type": "stream",
     "text": [
      "(1, 'John Doe', 30)\n",
      "(2, 'babu bhai', 60)\n",
      "(3, 'chotu don', 50)\n",
      "(4, 'sarkari babu', 40)\n",
      "(5, 'bade bhai', 90)\n"
     ]
    }
   ],
   "source": [
    "query = \"\"\" select * from users\"\"\"\n",
    "cursor.execute(query)\n",
    "result = cursor.fetchall()\n",
    "for row in result:\n",
    "    print(row)"
   ]
  },
  {
   "cell_type": "code",
   "execution_count": 19,
   "id": "5e31b9ba",
   "metadata": {},
   "outputs": [
    {
     "name": "stdout",
     "output_type": "stream",
     "text": [
      "(5,)\n"
     ]
    }
   ],
   "source": [
    "# Make sure to fetch all previous results before executing a new query\n",
    "\n",
    "query = \"\"\" select count(*) from users\"\"\"\n",
    "cursor.execute(query)\n",
    "result = cursor.fetchall()\n",
    "for row in result:\n",
    "    print(row)"
   ]
  }
 ],
 "metadata": {
  "kernelspec": {
   "display_name": "myenv",
   "language": "python",
   "name": "myenv"
  },
  "language_info": {
   "codemirror_mode": {
    "name": "ipython",
    "version": 3
   },
   "file_extension": ".py",
   "mimetype": "text/x-python",
   "name": "python",
   "nbconvert_exporter": "python",
   "pygments_lexer": "ipython3",
   "version": "3.11.5"
  }
 },
 "nbformat": 4,
 "nbformat_minor": 5
}
