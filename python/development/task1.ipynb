{
 "cells": [
  {
   "cell_type": "markdown",
   "id": "e86d8dbc",
   "metadata": {},
   "source": [
    "## two number and operator from user. and decorator - calling evaluation func: with parameter . and fun call . called evaluation func with result. and also print result after the function;\n",
    "\n",
    "### before the msg : print current time stamp . write all this messages into a file. not into console. with proper exception handling\n"
   ]
  },
  {
   "cell_type": "code",
   "execution_count": 5,
   "id": "8fda14f4",
   "metadata": {},
   "outputs": [
    {
     "data": {
      "text/plain": [
       "5"
      ]
     },
     "execution_count": 5,
     "metadata": {},
     "output_type": "execute_result"
    }
   ],
   "source": [
    "from datetime import datetime\n",
    "\n",
    "\n",
    "def decorator(func):\n",
    "    def wrapper(*args,**kwargs):\n",
    "        timestamp = datetime.now()\n",
    "        with open(\"log.txt\", \"a\") as file:\n",
    "            file.write(f\"Timestamp: {timestamp} \\n\")\n",
    "            file.write(f\" {func.__name__} called with args: {args}, kwargs: {kwargs} \\n\")\n",
    "            try:\n",
    "                result = func(*args, **kwargs)\n",
    "                file.write(f\"timestamp: {datetime.now()} Result: {result} \\n\")\n",
    "                # file.write(\"\")\n",
    "            except Exception as e:\n",
    "                file.write(\"*\" * 20 + \"\\n\")\n",
    "                file.write(f\"Exception: {e} \\n\")\n",
    "                raise e \n",
    "            finally:\n",
    "                file.write(\"*\" * 20 + \"\\n\")\n",
    "                file.write(f\"Timestamp: {datetime.now()} \\n\")\n",
    "            return result\n",
    "    return wrapper\n",
    "\n",
    "@decorator\n",
    "def calculate(a,b,operator):\n",
    "    if operator == '+':\n",
    "        return a + b\n",
    "    elif operator == '-':\n",
    "        return a - b\n",
    "    elif operator == '*':\n",
    "        return a * b\n",
    "    elif operator == '/':\n",
    "        if b != 0:\n",
    "            return a / b\n",
    "        else:\n",
    "            raise ValueError(\"Cannot divide by zero\")\n",
    "    else:\n",
    "        raise ValueError(\"Invalid operator\")\n",
    "\n",
    "calculate(10, 5, '+')\n",
    "calculate(10, 5, '-')"
   ]
  },
  {
   "cell_type": "markdown",
   "id": "303c15b0",
   "metadata": {},
   "source": [
    "## decorator with arguments:\n"
   ]
  },
  {
   "cell_type": "code",
   "execution_count": 8,
   "id": "08f72660",
   "metadata": {},
   "outputs": [
    {
     "data": {
      "text/plain": [
       "5"
      ]
     },
     "execution_count": 8,
     "metadata": {},
     "output_type": "execute_result"
    }
   ],
   "source": [
    "from datetime import datetime\n",
    "\n",
    "def decorator_with_args(filename=\"log.txt\"):\n",
    "    def decorator(func):\n",
    "        def wrapper(*args,**kwargs):\n",
    "            timestamp = datetime.now()\n",
    "            with open(f\"{filename}\", \"a\") as file:\n",
    "                file.write(f\"Timestamp: {timestamp} \\n\")\n",
    "                file.write(f\" {func.__name__} called with args: {args}, kwargs: {kwargs} \\n\")\n",
    "                try:\n",
    "                    result = func(*args, **kwargs)\n",
    "                    file.write(f\"timestamp: {datetime.now()} Result: {result} \\n\")\n",
    "                    # file.write(\"\")\n",
    "                except Exception as e:\n",
    "                    file.write(\"*\" * 20 + \"\\n\")\n",
    "                    file.write(f\"Exception: {e} \\n\")\n",
    "                    raise e \n",
    "                finally:\n",
    "                    file.write(\"*\" * 20 + \"\\n\")\n",
    "                    file.write(f\"Timestamp: {datetime.now()} \\n\")\n",
    "                return result\n",
    "        return wrapper\n",
    "    return decorator\n",
    "\n",
    "@decorator_with_args(filename=\"custom_log.txt\")\n",
    "def calculate(a,b,operator):\n",
    "    if operator == '+':\n",
    "        return a + b\n",
    "    elif operator == '-':\n",
    "        return a - b\n",
    "    elif operator == '*':\n",
    "        return a * b\n",
    "    elif operator == '/':\n",
    "        if b != 0:\n",
    "            return a / b\n",
    "        else:\n",
    "            raise ValueError(\"Cannot divide by zero\")\n",
    "    else:\n",
    "        raise ValueError(\"Invalid operator\")\n",
    "\n",
    "calculate(10, 5, '+')\n",
    "calculate(10, 5, '-')"
   ]
  }
 ],
 "metadata": {
  "kernelspec": {
   "display_name": "Python 3",
   "language": "python",
   "name": "python3"
  },
  "language_info": {
   "codemirror_mode": {
    "name": "ipython",
    "version": 3
   },
   "file_extension": ".py",
   "mimetype": "text/x-python",
   "name": "python",
   "nbconvert_exporter": "python",
   "pygments_lexer": "ipython3",
   "version": "3.11.5"
  }
 },
 "nbformat": 4,
 "nbformat_minor": 5
}
