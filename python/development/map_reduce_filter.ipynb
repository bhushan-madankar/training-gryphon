{
 "cells": [
  {
   "cell_type": "markdown",
   "id": "f556ed0f",
   "metadata": {},
   "source": [
    "## functional programming .... map reduce filter zip"
   ]
  },
  {
   "cell_type": "code",
   "execution_count": 3,
   "id": "f2635550",
   "metadata": {},
   "outputs": [
    {
     "name": "stdout",
     "output_type": "stream",
     "text": [
      "[1, 4, 9, 16, 25]\n"
     ]
    }
   ],
   "source": [
    "#map\n",
    "nums = [1, 2, 3, 4, 5]\n",
    "squares = list(map(lambda x : x**2, nums))\n",
    "print(squares)  # Output: [1, 4, 9, 16, 25]"
   ]
  },
  {
   "cell_type": "code",
   "execution_count": 5,
   "id": "b36838c7",
   "metadata": {},
   "outputs": [
    {
     "name": "stdout",
     "output_type": "stream",
     "text": [
      "[2, 4]\n"
     ]
    }
   ],
   "source": [
    "# filter -- lambda function must return boolean value \n",
    "nums = [1, 2, 3, 4, 5]\n",
    "evens = list(filter(lambda x : x % 2 == 0, nums))\n",
    "print(evens)  # Output: [2, 4]\n"
   ]
  },
  {
   "cell_type": "code",
   "execution_count": 6,
   "id": "089c8bb3",
   "metadata": {},
   "outputs": [
    {
     "name": "stdout",
     "output_type": "stream",
     "text": [
      "15\n"
     ]
    }
   ],
   "source": [
    "#reduce \n",
    "from functools import reduce\n",
    "nums = [1, 2, 3, 4, 5]\n",
    "total = reduce(lambda x, y: x + y, nums)\n",
    "print(total)  # Output: 15\n"
   ]
  },
  {
   "cell_type": "code",
   "execution_count": 7,
   "id": "b78e8c10",
   "metadata": {},
   "outputs": [
    {
     "ename": "SyntaxError",
     "evalue": "invalid syntax (1697323637.py, line 3)",
     "output_type": "error",
     "traceback": [
      "  \u001b[36mCell\u001b[39m\u001b[36m \u001b[39m\u001b[32mIn[7]\u001b[39m\u001b[32m, line 3\u001b[39m\n\u001b[31m    \u001b[39m\u001b[31mavg =\u001b[39m\n          ^\n\u001b[31mSyntaxError\u001b[39m\u001b[31m:\u001b[39m invalid syntax\n"
     ]
    }
   ],
   "source": [
    "## homework -- find avg using reduce (only using lambda function)\n",
    "nums = [1, 2, 3, 4, 5]\n",
    "avg = "
   ]
  }
 ],
 "metadata": {
  "kernelspec": {
   "display_name": "Python 3",
   "language": "python",
   "name": "python3"
  },
  "language_info": {
   "codemirror_mode": {
    "name": "ipython",
    "version": 3
   },
   "file_extension": ".py",
   "mimetype": "text/x-python",
   "name": "python",
   "nbconvert_exporter": "python",
   "pygments_lexer": "ipython3",
   "version": "3.11.5"
  }
 },
 "nbformat": 4,
 "nbformat_minor": 5
}
