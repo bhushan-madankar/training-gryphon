{
 "cells": [
  {
   "cell_type": "code",
   "execution_count": 11,
   "id": "8899689e",
   "metadata": {},
   "outputs": [
    {
     "name": "stdout",
     "output_type": "stream",
     "text": [
      "50.59327952828427 54.81406393564286 54.6354219544912 52.71460042561368 57.303055167098684 54.99622004795565 52.73724279153215 58.15070352722971 58.669840425707704 55.82346433824852 "
     ]
    }
   ],
   "source": [
    "# create an iterator my_random(low,high,count) that generates count number of random float number between low and high\n",
    "\n",
    "from random import uniform\n",
    "class my_random:\n",
    "    def __init__(self, low, high, count):\n",
    "        self.low = low\n",
    "        self.high = high\n",
    "        self.count = count\n",
    "        self.current = 0 # initialize with low when  if self.current > self.high or self.count <= 0:\n",
    "    \n",
    "    def __iter__(self):\n",
    "        return self\n",
    "\n",
    "    def __next__(self):\n",
    "        # if self.current > self.high or self.count <= 0:\n",
    "        #     raise StopIteration\n",
    "        # from random import uniform\n",
    "        # self.current = uniform(self.low, self.high)\n",
    "        # self.count -= 1\n",
    "        # return self.current\n",
    "        \n",
    "        # temp = self.current \n",
    "        if self.current < self.count:\n",
    "            self.current += 1\n",
    "            return uniform(self.low, self.high)\n",
    "        else:\n",
    "            raise StopIteration\n",
    "        \n",
    "        \n",
    "\n",
    "for r in my_random(50,60,10):\n",
    "    print(r, end = \" \")\n"
   ]
  },
  {
   "cell_type": "code",
   "execution_count": null,
   "id": "1fb87f00",
   "metadata": {},
   "outputs": [
    {
     "name": "stdout",
     "output_type": "stream",
     "text": [
      "59.38431649087705 54.30235688487794 53.755597461192835 55.59331323014884 55.97711807662874 54.38373225696264 55.5404051145856 52.29460456663553 53.97947082098774 54.71033567301918 "
     ]
    }
   ],
   "source": [
    "# create an iterator my_random(low,high,count) that generates count number of random float number between low and high\n",
    "\n",
    "from random import random\n",
    "class my_random:\n",
    "    def __init__(self, low, high, count):\n",
    "        self.low = low\n",
    "        self.high = high\n",
    "        self.count = count\n",
    "        self.current = 0 # initialize with low when  if self.current > self.high or self.count <= 0:\n",
    "    \n",
    "    def __iter__(self):\n",
    "        return self\n",
    "\n",
    "    def __next__(self):\n",
    "        if self.current < self.count:\n",
    "            self.current += 1\n",
    "            return random()*(self.high - self.low) + self.low # scaling and shifting\n",
    "        else:\n",
    "            raise StopIteration\n",
    "        \n",
    "        \n",
    "\n",
    "for r in my_random(50,60,10):\n",
    "    print(r, end = \" \")\n"
   ]
  },
  {
   "cell_type": "code",
   "execution_count": 1,
   "id": "284651c0",
   "metadata": {},
   "outputs": [],
   "source": [
    "### homework\n",
    "# given a string - create iterator - random_word - print n random permutations of chars in the string\n",
    "# class random_word: \n",
    "\n",
    "# for w in random_word(\"hello world\", 5):\n",
    "#     print(w, end = \" \")"
   ]
  },
  {
   "cell_type": "markdown",
   "id": "5cb30323",
   "metadata": {},
   "source": [
    "### unpacking"
   ]
  },
  {
   "cell_type": "code",
   "execution_count": 2,
   "id": "c2356eef",
   "metadata": {},
   "outputs": [
    {
     "name": "stdout",
     "output_type": "stream",
     "text": [
      "Amit 25 1000 nagpur\n"
     ]
    }
   ],
   "source": [
    "info = [\"Amit\", 25, 1000, \"nagpur\"]\n",
    "name , age, salary, city = info\n",
    "print(name, age, salary, city)"
   ]
  },
  {
   "cell_type": "code",
   "execution_count": 4,
   "id": "82f26c3f",
   "metadata": {},
   "outputs": [
    {
     "name": "stdout",
     "output_type": "stream",
     "text": [
      "Amit 25 1000 nagpur\n"
     ]
    }
   ],
   "source": [
    "info = {\"Amit\" :25, 1000: \"nagpur\"}\n",
    "var1 , var2 = info # output : \"Amit\", 1000\n",
    "val1, val2 = info.values() # output : 25, \"nagpur\"\n",
    "item1 , item2 = info.items() # output : ('Amit', 25), (1000, 'nagpur')\n",
    "print(name, age, salary, city)"
   ]
  },
  {
   "cell_type": "markdown",
   "id": "e2ff8102",
   "metadata": {},
   "source": [
    "## merging"
   ]
  },
  {
   "cell_type": "code",
   "execution_count": 5,
   "id": "7f0f4398",
   "metadata": {},
   "outputs": [
    {
     "name": "stdout",
     "output_type": "stream",
     "text": [
      "[1, 2, 3, 4, 5, 6, 7, 8, 9, 10]\n"
     ]
    }
   ],
   "source": [
    "nums1 = [1, 2, 3, 4, 5]\n",
    "nums2 = [6, 7, 8, 9, 10]\n",
    "nums = nums1 + nums2"
   ]
  },
  {
   "cell_type": "code",
   "execution_count": 9,
   "id": "820d6757",
   "metadata": {},
   "outputs": [
    {
     "name": "stdout",
     "output_type": "stream",
     "text": [
      "[1, 2, 3, 4, 5, 6, 7, 8, 9, 10]\n"
     ]
    }
   ],
   "source": [
    "nums1 = [1, 2, 3, 4, 5]\n",
    "nums2 = [6, 7, 8, 9, 10]\n",
    "nums = nums1.copy()  # or nums1[:] to create a shallow copy\n",
    "nums.extend(nums2)  # or nums1 += nums2\n",
    "print(nums)"
   ]
  },
  {
   "cell_type": "code",
   "execution_count": 11,
   "id": "15c3be1d",
   "metadata": {},
   "outputs": [
    {
     "name": "stdout",
     "output_type": "stream",
     "text": [
      "[1, 2, 3, 4, 5, 6, 7, 8, 9, 10]\n"
     ]
    }
   ],
   "source": [
    "nums1 = [1, 2, 3, 4, 5]\n",
    "nums2 = [6, 7, 8, 9, 10]\n",
    "\n",
    "nums = [*nums1, *nums2]  # using unpacking to merge lists\n",
    "print(nums)"
   ]
  },
  {
   "cell_type": "code",
   "execution_count": 12,
   "id": "1629d492",
   "metadata": {},
   "outputs": [
    {
     "name": "stdout",
     "output_type": "stream",
     "text": [
      "{'Amit': 25, 1000: 'nagpur'}\n"
     ]
    }
   ],
   "source": [
    "nums1 = {name: age, salary: city}\n",
    "nums2 = {\"Amit\": 25, 1000: \"nagpur\"}\n",
    "nums = {**nums1, **nums2}  # using unpacking to merge dictionaries\n",
    "print(nums)"
   ]
  },
  {
   "cell_type": "markdown",
   "id": "aac66446",
   "metadata": {},
   "source": [
    "## args and kwargs"
   ]
  },
  {
   "cell_type": "code",
   "execution_count": 14,
   "id": "4508bc9f",
   "metadata": {},
   "outputs": [
    {
     "name": "stdout",
     "output_type": "stream",
     "text": [
      "Amit 25 1000\n"
     ]
    }
   ],
   "source": [
    "def fun(*args):\n",
    "    name = args[0]\n",
    "    age = args[1]\n",
    "    salary = args[2]\n",
    "    print(name, age, salary)\n",
    "    \n",
    "fun(\"Amit\", 25, 1000)"
   ]
  },
  {
   "cell_type": "code",
   "execution_count": 15,
   "id": "5e540908",
   "metadata": {},
   "outputs": [
    {
     "name": "stdout",
     "output_type": "stream",
     "text": [
      "15\n",
      "60\n"
     ]
    }
   ],
   "source": [
    "def add_all(*args):\n",
    "    result = 0\n",
    "    for num in args:\n",
    "        result += num\n",
    "    return result\n",
    "\n",
    "print(add_all(1, 2, 3, 4, 5))  # Output: 15\n",
    "print(add_all(10, 20, 30))  # Output: 60\n",
    "    "
   ]
  },
  {
   "cell_type": "code",
   "execution_count": 17,
   "id": "f7575576",
   "metadata": {},
   "outputs": [
    {
     "ename": "SyntaxError",
     "evalue": "positional argument follows keyword argument (2962253533.py, line 10)",
     "output_type": "error",
     "traceback": [
      "  \u001b[36mCell\u001b[39m\u001b[36m \u001b[39m\u001b[32mIn[17]\u001b[39m\u001b[32m, line 10\u001b[39m\n\u001b[31m    \u001b[39m\u001b[31mfun(c=1,d= -1,10,20)\u001b[39m\n                       ^\n\u001b[31mSyntaxError\u001b[39m\u001b[31m:\u001b[39m positional argument follows keyword argument\n"
     ]
    }
   ],
   "source": [
    "## psotional args == unnamed args\n",
    "## kwargs == named args\n",
    "\n",
    "def fun(a, b, c=10, d=20):\n",
    "    print(a, b, c, d)\n",
    "\n",
    "fun(1, 2)  # Output: 1 2 10 20\n",
    "fun(1, 2, 30)  # Output: 1 2 30 20\n",
    "fun(1, 2, d=40)  # Output: 1 2 10 40\n",
    "# fun(c=1,d= -1,10,20) ## SyntaxError: positional argument follows keyword argument"
   ]
  },
  {
   "cell_type": "code",
   "execution_count": null,
   "id": "f91eb382",
   "metadata": {},
   "outputs": [
    {
     "name": "stdout",
     "output_type": "stream",
     "text": [
      "name = Amit\n",
      "age = 25\n",
      "1 2 Amit 25\n"
     ]
    }
   ],
   "source": [
    "def fun(*args, **kwargs):\n",
    "    # print(args)\n",
    "    # print(kwargs)\n",
    "    val1 = args[0]\n",
    "    val2 = args[1]\n",
    "    # name = kwargs['name']\n",
    "    # age = kwargs['age']\n",
    "    for key, value in kwargs.items():\n",
    "        print(f\"{key} = {value}\")\n",
    "    # print(val1, val2, name, age) # this is wrong\n",
    "    \n",
    "    \n",
    "fun( 1, 2, 3,name=\"Amit\", age=25)  # Output: (1, 2, 3) {'name': 'Amit', 'age': 25}"
   ]
  }
 ],
 "metadata": {
  "kernelspec": {
   "display_name": "Python 3",
   "language": "python",
   "name": "python3"
  },
  "language_info": {
   "codemirror_mode": {
    "name": "ipython",
    "version": 3
   },
   "file_extension": ".py",
   "mimetype": "text/x-python",
   "name": "python",
   "nbconvert_exporter": "python",
   "pygments_lexer": "ipython3",
   "version": "3.11.5"
  }
 },
 "nbformat": 4,
 "nbformat_minor": 5
}
