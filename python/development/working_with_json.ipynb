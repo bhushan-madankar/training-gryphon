{
 "cells": [
  {
   "cell_type": "markdown",
   "id": "00ebafdd",
   "metadata": {},
   "source": [
    "## json , csv data\n"
   ]
  },
  {
   "cell_type": "code",
   "execution_count": 2,
   "id": "7a162e60",
   "metadata": {},
   "outputs": [
    {
     "name": "stdout",
     "output_type": "stream",
     "text": [
      "<class 'dict'> {'name': 'Bhushan', 'age': 30, 'city': 'Pune'}\n"
     ]
    }
   ],
   "source": [
    "import json \n",
    "\n",
    "data = {'name': \"Bhushan\", 'age': 30, 'city': \"Pune\"}\n",
    "with open(\"data.json\", \"w\") as file:\n",
    "    json.dump(data, file)\n",
    "\n",
    "with open(\"data.json\", \"r\") as file:\n",
    "    loaded = json.load(file)\n",
    "\n",
    "print(type(loaded), loaded)"
   ]
  },
  {
   "cell_type": "markdown",
   "id": "57f9034c",
   "metadata": {},
   "source": [
    "## CSV\n"
   ]
  },
  {
   "cell_type": "code",
   "execution_count": 3,
   "id": "c4de4a52",
   "metadata": {},
   "outputs": [
    {
     "name": "stdout",
     "output_type": "stream",
     "text": [
      "['name', 'age', 'city']\n",
      "['Bhushan', '30', 'Pune']\n"
     ]
    }
   ],
   "source": [
    "import csv\n",
    "\n",
    "with open(\"data.csv\", \"w\", newline='') as file:\n",
    "    writer = csv.writer(file)\n",
    "    writer.writerow([\"name\", \"age\", \"city\"])\n",
    "    writer.writerow([\"Bhushan\", 30, \"Pune\"])\n",
    "    \n",
    "with open(\"data.csv\", \"r\") as file:\n",
    "    reader = csv.reader(file)\n",
    "    for row in reader:\n",
    "        print(row)\n",
    "        "
   ]
  }
 ],
 "metadata": {
  "kernelspec": {
   "display_name": "Python 3",
   "language": "python",
   "name": "python3"
  },
  "language_info": {
   "codemirror_mode": {
    "name": "ipython",
    "version": 3
   },
   "file_extension": ".py",
   "mimetype": "text/x-python",
   "name": "python",
   "nbconvert_exporter": "python",
   "pygments_lexer": "ipython3",
   "version": "3.11.5"
  }
 },
 "nbformat": 4,
 "nbformat_minor": 5
}
