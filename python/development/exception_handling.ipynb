{
 "cells": [
  {
   "cell_type": "code",
   "execution_count": 8,
   "id": "bc2490df",
   "metadata": {},
   "outputs": [
    {
     "name": "stdout",
     "output_type": "stream",
     "text": [
      "ValueError: invalid literal for int() with base 10: '1234.5'\n",
      "This block always executes, regardless of exceptions.\n"
     ]
    }
   ],
   "source": [
    "try:\n",
    "    v = int(\"1234.5\")\n",
    "    print(v)\n",
    "    result = 10 / 0\n",
    "    print(result)\n",
    "except ValueError as e: # only one exception can be caught at a time \n",
    "    print(f\"ValueError: {e}\")\n",
    "except ZeroDivisionError as e:\n",
    "    print(f\"ZeroDivisionError: {e}\")\n",
    "finally:\n",
    "    print(\"This block always executes, regardless of exceptions.\")\n"
   ]
  },
  {
   "cell_type": "code",
   "execution_count": 10,
   "id": "705c6877",
   "metadata": {},
   "outputs": [
    {
     "name": "stdout",
     "output_type": "stream",
     "text": [
      "FileNotFoundError: [Errno 2] No such file or directory: 'non_existent_file.txt'\n",
      "This block always executes, regardless of exceptions.\n"
     ]
    }
   ],
   "source": [
    "try:\n",
    "    with open(\"non_existent_file.txt\", \"r\") as file:\n",
    "        content = file.read()\n",
    "        print(content)\n",
    "except FileNotFoundError as e:\n",
    "    print(f\"FileNotFoundError: {e}\")\n",
    "finally:\n",
    "    print(\"This block always executes, regardless of exceptions.\")"
   ]
  },
  {
   "cell_type": "markdown",
   "id": "9ddb2847",
   "metadata": {},
   "source": [
    "## ELSE BLOCK"
   ]
  },
  {
   "cell_type": "code",
   "execution_count": 12,
   "id": "eeb2aa48",
   "metadata": {},
   "outputs": [
    {
     "name": "stdout",
     "output_type": "stream",
     "text": [
      "This is a new line.\n",
      "hello\n",
      "training\n",
      "\n",
      "File read successfully, no exceptions occurred.\n",
      "This block always executes, regardless of exceptions.\n"
     ]
    }
   ],
   "source": [
    "try:\n",
    "    with open(\"sample.txt\", \"r\") as file:\n",
    "        content = file.read()\n",
    "        print(content)\n",
    "except FileNotFoundError as e:\n",
    "    print(f\"FileNotFoundError: {e}\")\n",
    "else: # This block executes if no exceptions occur \n",
    "    print(\"File read successfully, no exceptions occurred.\")\n",
    "finally:\n",
    "    print(\"This block always executes, regardless of exceptions.\")"
   ]
  },
  {
   "cell_type": "code",
   "execution_count": 13,
   "id": "fb51c3ff",
   "metadata": {},
   "outputs": [
    {
     "name": "stdout",
     "output_type": "stream",
     "text": [
      "An error occurred: [Errno 2] No such file or directory: 'non_existent_file.txt'\n"
     ]
    }
   ],
   "source": [
    "try:\n",
    "    with open(\"non_existent_file.txt\", \"r\") as file:\n",
    "        content = file.read()\n",
    "        print(content)\n",
    "except Exception as e:\n",
    "    print(f\"An error occurred: {e}\")"
   ]
  },
  {
   "cell_type": "markdown",
   "id": "f8679193",
   "metadata": {},
   "source": [
    "## CUSTOM EXCEPTION"
   ]
  },
  {
   "cell_type": "code",
   "execution_count": 17,
   "id": "5fd6de81",
   "metadata": {},
   "outputs": [
    {
     "name": "stdout",
     "output_type": "stream",
     "text": [
      "ValidationError: Input must be a number.\n"
     ]
    },
    {
     "name": "stderr",
     "output_type": "stream",
     "text": [
      "Traceback (most recent call last):\n",
      "  File \"C:\\Users\\Bhushan\\AppData\\Local\\Temp\\ipykernel_8060\\4059195996.py\", line 16, in <module>\n",
      "    raise ValidationError(\"Input must be a number.\")\n",
      "ValidationError: Input must be a number.\n"
     ]
    }
   ],
   "source": [
    "import traceback\n",
    "class AppError(Exception):\n",
    "    \"\"\"Base class for application-specific exceptions.\"\"\"\n",
    "    pass\n",
    "\n",
    "class ValidationError(AppError):\n",
    "    \"\"\"Raised when a validation error occurs.\"\"\"\n",
    "    def __init__(self, message):\n",
    "        super().__init__(message)\n",
    "        self.message = message\n",
    "        \n",
    "\n",
    "n = input(\"Enter a number: \")\n",
    "try:\n",
    "    if not n.isnumeric():\n",
    "        raise ValidationError(\"Input must be a number.\")\n",
    "    print(f\"You entered: {n}\")\n",
    "except ValidationError as e:\n",
    "    print(f\"ValidationError: {e.message}\")\n",
    "    # print(e.__traceback__)\n",
    "    traceback.print_exc()"
   ]
  },
  {
   "cell_type": "markdown",
   "id": "3a84b514",
   "metadata": {},
   "source": [
    "## traceback and warning module"
   ]
  },
  {
   "cell_type": "code",
   "execution_count": 20,
   "id": "1a33ba16",
   "metadata": {},
   "outputs": [
    {
     "name": "stderr",
     "output_type": "stream",
     "text": [
      "C:\\Users\\Bhushan\\AppData\\Local\\Temp\\ipykernel_8060\\994278705.py:3: DeprecationWarning: This function is deprecated and will be removed in future versions.\n",
      "  warnings.warn(\"This function is deprecated and will be removed in future versions.\", DeprecationWarning)\n"
     ]
    }
   ],
   "source": [
    "import warnings\n",
    "def deprecated_function():\n",
    "    warnings.warn(\"This function is deprecated and will be removed in future versions.\", DeprecationWarning)\n",
    "try:\n",
    "    deprecated_function()\n",
    "except DeprecationWarning as e:\n",
    "    print(f\"DeprecationWarning: {e}\")"
   ]
  }
 ],
 "metadata": {
  "kernelspec": {
   "display_name": "Python 3",
   "language": "python",
   "name": "python3"
  },
  "language_info": {
   "codemirror_mode": {
    "name": "ipython",
    "version": 3
   },
   "file_extension": ".py",
   "mimetype": "text/x-python",
   "name": "python",
   "nbconvert_exporter": "python",
   "pygments_lexer": "ipython3",
   "version": "3.11.5"
  }
 },
 "nbformat": 4,
 "nbformat_minor": 5
}
